{
  "nbformat": 4,
  "nbformat_minor": 0,
  "metadata": {
    "colab": {
      "name": "Messi vs Ronaldo - An Analytical Debate",
      "provenance": [],
      "collapsed_sections": [],
      "authorship_tag": "ABX9TyOZbefjkxSUHnP5h4Q+FCin",
      "include_colab_link": true
    },
    "kernelspec": {
      "name": "python3",
      "display_name": "Python 3"
    },
    "language_info": {
      "name": "python"
    }
  },
  "cells": [
    {
      "cell_type": "markdown",
      "metadata": {
        "id": "view-in-github",
        "colab_type": "text"
      },
      "source": [
        "<a href=\"https://colab.research.google.com/github/kaustavr19/Messi-vs-Ronaldo---An-Analytical-Debate/blob/main/Messi_vs_Ronaldo_An_Analytical_Debate.ipynb\" target=\"_parent\"><img src=\"https://colab.research.google.com/assets/colab-badge.svg\" alt=\"Open In Colab\"/></a>"
      ]
    },
    {
      "cell_type": "markdown",
      "metadata": {
        "id": "lvUQHffZGiXC"
      },
      "source": [
        "## Flow of the Project:\n",
        "1. Get data from [Understat](https://understat.com/) for Messi and Ronaldo\n",
        "3. Data Cleaning and Exploration of the data for Messi and Ronaldo on different aspects\n",
        "2. Comparative Analysis\n",
        "3. Shot Analysis\n",
        "3. The Final comparison"
      ]
    },
    {
      "cell_type": "code",
      "metadata": {
        "id": "MRN8t3ExFshe"
      },
      "source": [
        "import json\n",
        "import pandas as pd\n",
        "from bs4 import BeautifulSoup\n",
        "from urllib.request import urlopen\n",
        "\n"
      ],
      "execution_count": null,
      "outputs": []
    }
  ]
}